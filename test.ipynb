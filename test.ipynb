{
 "cells": [
  {
   "cell_type": "code",
   "execution_count": null,
   "id": "876a22ae",
   "metadata": {},
   "outputs": [],
   "source": [
    "import torch\n",
    "from cached_conv.convs import CachedConv2d\n",
    "\n",
    "# Create a cached 2D convolution for spectrograms\n",
    "conv = CachedConv2d(\n",
    "    in_channels=1,\n",
    "    out_channels=32,\n",
    "    kernel_size=(3, 7),      # Smaller kernel in frequency, larger in time\n",
    "    stride=(1, 1),\n",
    "    padding=(1, 3),\n",
    "    padding_mode=(\"centered\", \"causal\")\n",
    ")\n",
    "\n",
    "# Process a batch of spectrograms\n",
    "# Shape: [batch, channels, frequency, time]\n",
    "spectrogram = torch.randn(1, 1, 128, 100)\n",
    "output = conv(spectrogram)"
   ]
  },
  {
   "cell_type": "code",
   "execution_count": 5,
   "id": "74f08a00",
   "metadata": {},
   "outputs": [
    {
     "name": "stdout",
     "output_type": "stream",
     "text": [
      "/Users/jasperrr/PhD/25_06_music2latent/cached_conv2d/cached_conv\n"
     ]
    },
    {
     "name": "stderr",
     "output_type": "stream",
     "text": [
      "/Users/jasperrr/miniforge3/envs/pt25/lib/python3.12/site-packages/IPython/core/magics/osm.py:417: UserWarning: This is now an optional IPython functionality, setting dhist requires you to install the `pickleshare` library.\n",
      "  self.shell.db['dhist'] = compress_dhist(dhist)[-100:]\n"
     ]
    }
   ],
   "source": [
    "%cd cached_conv"
   ]
  },
  {
   "cell_type": "code",
   "execution_count": 6,
   "id": "8eb5a630",
   "metadata": {},
   "outputs": [
    {
     "name": "stdout",
     "output_type": "stream",
     "text": [
      "Running 2D Cached Convolution Tests\n",
      "\n",
      "==================================================\n",
      "Testing get_padding_2d...\n",
      "Padding for (3,5) kernel with (centered, causal): ((1, 1), (4, 0))\n",
      "Padding for 3x3 kernel with centered: ((1, 1), (1, 1))\n",
      "get_padding_2d test passed!\n",
      "\n",
      "Testing CachedConv2d...\n",
      "Chunk 0: Input shape: torch.Size([2, 1, 80, 100]), Output shape: torch.Size([2, 16, 78, 98])\n",
      "Cumulative delay: 0\n",
      "Chunk 1: Input shape: torch.Size([2, 1, 80, 100]), Output shape: torch.Size([2, 16, 78, 98])\n",
      "Cumulative delay: 0\n",
      "Chunk 2: Input shape: torch.Size([2, 1, 80, 100]), Output shape: torch.Size([2, 16, 78, 98])\n",
      "Cumulative delay: 0\n",
      "CachedConv2d test passed!\n",
      "\n",
      "Testing CachedConvTranspose2d...\n",
      "Chunk 0: Input shape: torch.Size([2, 16, 80, 100]), Output shape: torch.Size([2, 1, 80, 100])\n",
      "Cumulative delay: 2\n",
      "Chunk 1: Input shape: torch.Size([2, 16, 80, 100]), Output shape: torch.Size([2, 1, 80, 100])\n",
      "Cumulative delay: 2\n",
      "Chunk 2: Input shape: torch.Size([2, 16, 80, 100]), Output shape: torch.Size([2, 1, 80, 100])\n",
      "Cumulative delay: 2\n",
      "CachedConvTranspose2d test passed!\n",
      "\n",
      "Testing spectrogram model...\n",
      "Total model delay: 0\n",
      "Chunk 0: Input shape: torch.Size([2, 1, 128, 50]), Output shape: torch.Size([2, 1, 122, 46])\n",
      "Chunk 1: Input shape: torch.Size([2, 1, 128, 50]), Output shape: torch.Size([2, 1, 122, 46])\n",
      "Chunk 2: Input shape: torch.Size([2, 1, 128, 50]), Output shape: torch.Size([2, 1, 122, 46])\n",
      "Spectrogram model test passed!\n",
      "\n",
      "Testing comparison with standard convolutions...\n",
      "Cached conv output shape: torch.Size([1, 16, 30, 31])\n",
      "Standard conv output shape: torch.Size([1, 16, 32, 32])\n",
      "Cached conv delay: 0\n",
      "Standard conv delay: 0\n",
      "Comparison test passed!\n",
      "\n",
      "==================================================\n",
      "All tests passed successfully!\n"
     ]
    }
   ],
   "source": [
    "!python test_conv2d.py"
   ]
  },
  {
   "cell_type": "code",
   "execution_count": null,
   "id": "8726c42c",
   "metadata": {},
   "outputs": [],
   "source": []
  }
 ],
 "metadata": {
  "kernelspec": {
   "display_name": "pt25",
   "language": "python",
   "name": "python3"
  },
  "language_info": {
   "codemirror_mode": {
    "name": "ipython",
    "version": 3
   },
   "file_extension": ".py",
   "mimetype": "text/x-python",
   "name": "python",
   "nbconvert_exporter": "python",
   "pygments_lexer": "ipython3",
   "version": "3.12.7"
  }
 },
 "nbformat": 4,
 "nbformat_minor": 5
}
